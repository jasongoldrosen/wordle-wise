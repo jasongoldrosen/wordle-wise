{
 "cells": [
  {
   "cell_type": "code",
   "execution_count": 1,
   "metadata": {},
   "outputs": [],
   "source": [
    "import pandas as pd\n",
    "import numpy as np \n",
    "import seaborn as sns; sns.set()\n",
    "from wordle_wise.api import *\n",
    "import matplotlib.pyplot as plt\n",
    "from collections import Counter"
   ]
  },
  {
   "cell_type": "code",
   "execution_count": 47,
   "metadata": {},
   "outputs": [
    {
     "name": "stderr",
     "output_type": "stream",
     "text": [
      "/Users/jasongoldrosen/Documents/datasci_projects/wordle-wise/wordle_wise/api.py:48: SettingWithCopyWarning: \n",
      "A value is trying to be set on a copy of a slice from a DataFrame.\n",
      "Try using .loc[row_indexer,col_indexer] = value instead\n",
      "\n",
      "See the caveats in the documentation: https://pandas.pydata.org/pandas-docs/stable/user_guide/indexing.html#returning-a-view-versus-a-copy\n",
      "  df[WORD_COLUMN] = df[WORD_COLUMN].str.upper()\n"
     ]
    },
    {
     "data": {
      "text/html": [
       "<div>\n",
       "<style scoped>\n",
       "    .dataframe tbody tr th:only-of-type {\n",
       "        vertical-align: middle;\n",
       "    }\n",
       "\n",
       "    .dataframe tbody tr th {\n",
       "        vertical-align: top;\n",
       "    }\n",
       "\n",
       "    .dataframe thead th {\n",
       "        text-align: right;\n",
       "    }\n",
       "</style>\n",
       "<table border=\"1\" class=\"dataframe\">\n",
       "  <thead>\n",
       "    <tr style=\"text-align: right;\">\n",
       "      <th></th>\n",
       "      <th>word</th>\n",
       "      <th>count</th>\n",
       "    </tr>\n",
       "  </thead>\n",
       "  <tbody>\n",
       "    <tr>\n",
       "      <th>35</th>\n",
       "      <td>ABOUT</td>\n",
       "      <td>1226734006</td>\n",
       "    </tr>\n",
       "    <tr>\n",
       "      <th>45</th>\n",
       "      <td>OTHER</td>\n",
       "      <td>978481319</td>\n",
       "    </tr>\n",
       "    <tr>\n",
       "      <th>56</th>\n",
       "      <td>WHICH</td>\n",
       "      <td>810514085</td>\n",
       "    </tr>\n",
       "    <tr>\n",
       "      <th>57</th>\n",
       "      <td>THEIR</td>\n",
       "      <td>782849411</td>\n",
       "    </tr>\n",
       "    <tr>\n",
       "      <th>62</th>\n",
       "      <td>THERE</td>\n",
       "      <td>701170205</td>\n",
       "    </tr>\n",
       "  </tbody>\n",
       "</table>\n",
       "</div>"
      ],
      "text/plain": [
       "     word       count\n",
       "35  ABOUT  1226734006\n",
       "45  OTHER   978481319\n",
       "56  WHICH   810514085\n",
       "57  THEIR   782849411\n",
       "62  THERE   701170205"
      ]
     },
     "execution_count": 47,
     "metadata": {},
     "output_type": "execute_result"
    }
   ],
   "source": [
    "file_path = 'data/unigram_freq.csv'\n",
    "WORD_COLUMN = 'word'\n",
    "FREQ_COLUMN = 'count'\n",
    "ignore_characters = ['_', '', ' ']\n",
    "alphabet = ['a','b','c','d','e','f','g','h','i','j','k','l','m','n','o','p','q','r','s','t','u','v','w','y','x','z']\n",
    "alphabet = [x.upper() for x in alphabet]\n",
    "\n",
    "word_bank = get_wordle_word_bank(pd.read_csv(file_path), nletters=5)\n",
    "\n",
    "word_bank.head()"
   ]
  },
  {
   "cell_type": "code",
   "execution_count": 46,
   "metadata": {},
   "outputs": [],
   "source": [
    "# helper functions\n",
    "\n",
    "def score_word(guessed_word,actual_word):\n",
    "\n",
    "    if len(guessed_word) != len(actual_word):\n",
    "        raise ValueError('Word lengths do not match')\n",
    "    gw = list(guessed_word)\n",
    "    aw = list(actual_word)\n",
    "\n",
    "    remaining_positions_guess = [i for i in range(len(gw))]\n",
    "    remaining_positions_actual = [i for i in range(len(gw))]\n",
    "    is_green_positions = []\n",
    "    is_yellow_positions = []\n",
    "\n",
    "    # Greens\n",
    "    for i,letter in enumerate(gw):\n",
    "        if gw[i] == aw[i]:\n",
    "            is_green_positions += [i]\n",
    "            remaining_positions_guess.remove(i)\n",
    "            remaining_positions_actual.remove(i)\n",
    "\n",
    "    # Yellows\n",
    "    aw_remaining = [w for i, w in enumerate(aw) if i in remaining_positions_actual]\n",
    "    for i,letter in enumerate(gw):\n",
    "            if i not in remaining_positions_guess:\n",
    "                continue \n",
    "            if gw[i] in aw_remaining:\n",
    "                is_yellow_positions += [i]\n",
    "                remaining_positions_guess.remove(i)\n",
    "                aw_remaining.remove(gw[i])\n",
    "\n",
    "    result = list('_' * len(guessed_word))\n",
    "\n",
    "    for i in is_green_positions:\n",
    "        result[i] = 'G'\n",
    "\n",
    "    for i in is_yellow_positions:\n",
    "        result[i] = 'Y'\n",
    "\n",
    "    result = \"\".join(result)\n",
    "    return result      \n",
    "\n",
    "\n",
    "def count_letter(result, letters=['G','Y']):\n",
    "    cnt = tuple([Counter(result)[l] for l in letters])\n",
    "    return cnt\n",
    "\n",
    "def calc_expectations(cnt_greens, cnt_yellows, weights, green_value_premium=3):\n",
    "    expected_greens = (cnt_greens @ weights)\n",
    "    expected_yellow = (cnt_yellows @ weights)\n",
    "    expected_value = expected_greens * green_value_premium + expected_yellow\n",
    "    return expected_greens, expected_yellow, expected_value\n",
    "\n",
    "assert score_word(guessed_word = 'TATOO',actual_word = 'ABOUT') == 'YY_Y_'\n",
    "assert score_word(guessed_word = 'ABOUT',actual_word = 'TATOO') == 'Y_Y_Y'\n",
    "assert score_word(guessed_word = 'TASTE',actual_word = 'ABOUT') == 'YY___'\n",
    "assert score_word(guessed_word = 'TABLE',actual_word = 'TREAT') == 'GY__Y'\n"
   ]
  },
  {
   "cell_type": "code",
   "execution_count": 35,
   "metadata": {},
   "outputs": [],
   "source": [
    "class WordleGame:\n",
    "\n",
    "    def __init__(self, words, weights, sample_max:int=100, rounds:int=6):\n",
    "        self.rounds = rounds\n",
    "        self.remaining_guesses = rounds\n",
    "        self.possible_guesses = words\n",
    "        self.weights = normalize(weights)             \n",
    "        self.scoreboard = []\n",
    "        self.sample_max = sample_max\n",
    "    \n",
    "    def normalize(x):\n",
    "        return x / x.sum()\n",
    "\n",
    "    def fit(self):\n",
    "        \n",
    "        #Sample subset\n",
    "        words_index= np.array([i for i in range(len(self.possible_guesses))],dtype=int)\n",
    "        \n",
    "        if (self.weights > 0).sum() > self.sample_max:\n",
    "            sample_index = np.random.choice(words_index, size=self.sample_max, replace=False, p=self.weights)\n",
    "        else:\n",
    "            sample_index = np.array([i for i,weight_i in enumerate(self.weights) if weight_i > 0])\n",
    "        \n",
    "        sample_words = words[sample_index]\n",
    "        sample_weights = normalize(weights[sample_index])\n",
    "    \n",
    "        # Grids\n",
    "        results_grid = np.array([score_word(guessed_word=gw,actual_word=aw) for gw in self.possible_guesses for aw in sample_words])\n",
    "        scores_grid = np.array([count_letter(sg) for sg in results_grid])\n",
    "\n",
    "        results_matrix = results_grid.reshape(len(self.possible_guesses), len(sample_words))\n",
    "        cnt_greens = scores_grid[:,0].reshape(len(self.possible_guesses), len(sample_words))\n",
    "        cnt_yellows = scores_grid[:,1].reshape(len(self.possible_guesses), len(sample_words))\n",
    "\n",
    "        # Expectations\n",
    "        exptected_greens, exptected_yellows, expected_value = calc_expectations(cnt_greens, cnt_yellows, sample_weights, green_value_premium=3)\n",
    "\n",
    "        # Recommendations\n",
    "        recommendations = [(self.possible_guesses[i],expected_value[i])  for i in np.argsort(expected_value)[::-1]]\n",
    "        [print(x) for x in recommendations[0:5]]\n",
    "        print(\"\\n\\n\")\n",
    "#         print(cnt_greens.shape)\n",
    "#         print(cnt_yellows.shape)\n",
    "#         print(exptected_greens.shape)\n",
    "#         print(exptected_yellows.shape)\n",
    "#         print(expected_value.shape)\n",
    "    \n",
    "    def make_guess(self, guess:str, result:str):\n",
    "        if self.remaining_guesses == 0:\n",
    "            raise ValueError(\"No more remaining guesses\")\n",
    "        else: \n",
    "            self.remaining_guesses -= 1\n",
    "\n",
    "        # Make sure to use upper case words\n",
    "        if guess != guess.upper():\n",
    "            guess = guess.upper()\n",
    "\n",
    "        if result != result.upper():\n",
    "            result = result.upper()\n",
    "\n",
    "        # Update weights\n",
    "        result_is_possible = np.array([(score_word(guess,aw) == result)*1 for aw in self.possible_guesses])\n",
    "        self.weights = normalize(self.weights * result_is_possible)\n",
    "\n",
    "        self.scoreboard += [guess]\n",
    "        print(self.weights.shape)\n",
    "        print(self.weights.sum())\n",
    "        return None\n"
   ]
  },
  {
   "cell_type": "code",
   "execution_count": 36,
   "metadata": {},
   "outputs": [
    {
     "name": "stdout",
     "output_type": "stream",
     "text": [
      "('THOSE', 3.729991405651436)\n",
      "('THIER', 3.724731660676773)\n",
      "('THREE', 3.605437168348293)\n",
      "('SHORE', 3.5812671458260663)\n",
      "('THEIR', 3.5713331274085047)\n",
      "\n",
      "\n",
      "\n",
      "(5000,)\n",
      "1.0\n"
     ]
    }
   ],
   "source": [
    "n = 5000\n",
    "words = word_bank['word'].values[:n]\n",
    "weights = word_bank['count'].values[:n]\n",
    "\n",
    "wg = WordleGame(words=words, weights=weights, sample_max=100)\n",
    "wg.fit()\n",
    "wg.make_guess(guess='THEIR', result='___YY')"
   ]
  },
  {
   "cell_type": "code",
   "execution_count": 37,
   "metadata": {},
   "outputs": [
    {
     "name": "stdout",
     "output_type": "stream",
     "text": [
      "('GIRLS', 6.955558657960447)\n",
      "('GRILS', 6.487126493610173)\n",
      "('BIRDS', 6.14751429449349)\n",
      "('GRIDS', 5.958453346528746)\n",
      "('GRIPS', 5.763987064394225)\n",
      "\n",
      "\n",
      "\n",
      "(5000,)\n",
      "0.9999999999999999\n"
     ]
    }
   ],
   "source": [
    "wg.fit()\n",
    "wg.make_guess(guess='GIRLS', result='_YY__')"
   ]
  },
  {
   "cell_type": "code",
   "execution_count": 38,
   "metadata": {},
   "outputs": [
    {
     "name": "stdout",
     "output_type": "stream",
     "text": [
      "('BRIAN', 7.677148280950486)\n",
      "('BRINK', 7.53995259666754)\n",
      "('DRINK', 7.467586299564044)\n",
      "('IRINA', 6.974756746057111)\n",
      "('BRICK', 6.801963990787381)\n",
      "\n",
      "\n",
      "\n",
      "(5000,)\n",
      "1.0\n"
     ]
    }
   ],
   "source": [
    "wg.fit()\n",
    "wg.make_guess(guess='TRICE', result='_GGG_')\n"
   ]
  },
  {
   "cell_type": "code",
   "execution_count": 34,
   "metadata": {},
   "outputs": [
    {
     "name": "stdout",
     "output_type": "stream",
     "text": [
      "('BRICK', 14.702415035613228)\n",
      "('PRICK', 12.29758496438677)\n",
      "('TRICK', 12.0)\n",
      "('ERICK', 12.0)\n",
      "('BRICE', 11.702415035613228)\n",
      "\n",
      "\n",
      "\n",
      "(5000, 2)\n",
      "(5000, 2)\n",
      "(5000,)\n",
      "(5000,)\n",
      "(5000,)\n",
      "(5000,)\n",
      "1.0\n"
     ]
    }
   ],
   "source": [
    "wg.fit()\n",
    "wg.make_guess(guess='BRICK', result='_GGGG')\n",
    "wg.fit()\n"
   ]
  },
  {
   "cell_type": "code",
   "execution_count": 25,
   "metadata": {},
   "outputs": [
    {
     "name": "stdout",
     "output_type": "stream",
     "text": [
      "(10000,)\n",
      "1.0\n",
      "('BRICK', 14.34787962255799)\n",
      "('PRICK', 12.258544177950371)\n",
      "('ERICK', 12.181861295776708)\n",
      "('FRICK', 12.106637142087234)\n",
      "('CRICK', 12.105077761627697)\n",
      "\n",
      "\n",
      "\n",
      "(10000, 5)\n",
      "(10000, 5)\n",
      "(10000,)\n",
      "(10000,)\n",
      "(10000,)\n"
     ]
    }
   ],
   "source": [
    "wg.make_guess(guess='TRICK', result='_GGGG')\n",
    "wg.fit()\n"
   ]
  },
  {
   "cell_type": "code",
   "execution_count": null,
   "metadata": {},
   "outputs": [],
   "source": []
  },
  {
   "cell_type": "markdown",
   "metadata": {},
   "source": [
    "# Scratch"
   ]
  },
  {
   "cell_type": "code",
   "execution_count": 50,
   "metadata": {},
   "outputs": [
    {
     "name": "stdout",
     "output_type": "stream",
     "text": [
      "['GRANT' 'PHOTO' 'LOCAL' 'ADULT' 'CHAIR' 'STUDY' 'SHACK' 'DANCE' 'WRITE'\n",
      " 'STOCK' 'SITES' 'UPPER' 'BELOW' 'THERE' 'SALES' 'PORNO' 'GROUP' 'ORDER'\n",
      " 'MEANS' 'VOICE' 'TALKS' 'SANTA' 'APPLY' 'COUNT' 'SINCE' 'CLASS' 'THOSE'\n",
      " 'WHILE' 'ASIAN' 'THESE' 'USERS' 'APRIL' 'MIGHT' 'STAFF' 'POSTS' 'GRAIN'\n",
      " 'BLOOM' 'SPACE' 'SCORE' 'STATE' 'MEDIA' 'MARCH' 'ICONS' 'BLACK' 'OFFER'\n",
      " 'VOLTS' 'LEAST' 'ASKED' 'EMAIL' 'RISKS' 'RIVER' 'SOUND' 'PLACE' 'YAHOO'\n",
      " 'MAYBE' 'LOOSE' 'ADDED' 'SHIPS' 'ALONG' 'SHOWN' 'MULTI' 'CRAFT' 'WOULD'\n",
      " 'WANTS' 'BASED' 'GAMES' 'CLEAR' 'CLICK' 'SKYPE' 'ALLOW' 'CLAIM' 'ABOUT'\n",
      " 'LISTS' 'IDEAS' 'STORE']\n",
      "('SLATE', 0.7378749074715556)\n",
      "('STOLE', 0.7225146754962011)\n",
      "('STARE', 0.7133385934410235)\n",
      "('STORE', 0.7131679976113405)\n",
      "('THOSE', 0.711565114169505)\n",
      "Guessing: SLATE, Reusult: _____\n",
      "('WHICH', 0.2328037067894133)\n",
      "('GROUP', 0.09244285949622434)\n",
      "('FORUM', 0.07309368822853615)\n",
      "('FOUND', 0.0666389802716281)\n",
      "('GOING', 0.044602197952164524)\n"
     ]
    },
    {
     "data": {
      "text/plain": [
       "[None, None, None, None, None]"
      ]
     },
     "execution_count": 50,
     "metadata": {},
     "output_type": "execute_result"
    }
   ],
   "source": [
    "def update_weights(words, weights, possible_results, guess,result):\n",
    "    updated_weights = ((results_matrix[:,words == guess] == result) * 1).reshape(weights.shape)\n",
    "\n",
    "    # Posterior Update\n",
    "    weights = weights * updated_weights\n",
    "    weights = weights / weights.sum()\n",
    "    return weights\n",
    "\n",
    "def filter_word_bank(word_bank, guess, result):\n",
    "    updated_word_bank = word_bank[np.array([score_word(guessed_word = guess,actual_word = aw) == result for aw in words])]\n",
    "    return updated_word_bank\n",
    "\n",
    "\n",
    "n = 2500\n",
    "sample_n = 75\n",
    "green_value_premium = 1.5\n",
    "np.random.seed(123)\n",
    "\n",
    "# Word Bank\n",
    "words = word_bank['word'].values[:n]\n",
    "\n",
    "# Weights / Priors\n",
    "weights = word_bank['count'].values[:n]\n",
    "weights = weights / weights.sum() \n",
    "\n",
    "#Sample subset\n",
    "words_index = np.array([i for i in range(len(words))],dtype=int)\n",
    "sample_index = np.random.choice(words_index, size=sample_n, replace=False, p=weights)\n",
    "sample_words = words[sample_index]\n",
    "sample_weights = weights[sample_index]\n",
    "\n",
    "# Grids\n",
    "results_grid = np.array([score_word(gw,aw) for gw in words for aw in sample_words])\n",
    "scores_grid = np.array([count_letter(sg) for sg in results_grid])\n",
    "\n",
    "results_matrix = results_grid.reshape(len(words), len(sample_words))\n",
    "cnt_greens = scores_grid[:,0].reshape(len(words), len(sample_words))\n",
    "cnt_yellows = scores_grid[:,1].reshape(len(words), len(sample_words))\n",
    "\n",
    "# Expectations\n",
    "exptected_greens, exptected_yellows, expected_value = calc_expectations(cnt_greens, cnt_yellows, sample_weights, green_value_premium=3)\n",
    "\n",
    "# Recommendations\n",
    "recommendations = [(words[i],expected_value[i])  for i in np.argsort(expected_value)[::-1]]\n",
    "[print(x) for x in recommendations[0:5]]\n",
    "\n",
    "guess = 'SLATE'\n",
    "result = '_____'\n",
    "print(f\"Guessing: {guess}, Reusult: {result}\")\n",
    "\n",
    "# Update weights\n",
    "result_is_possible = np.array([(score_word(guess,aw) == result)*1 for aw in words])\n",
    "weights = weights * result_is_possible\n",
    "weights = weights / weights.sum()\n",
    "\n",
    "\n",
    "# weights = update_weights(words, weights=weights, results_matrix=results_matrix, guess='SLATE',result='_____')\n",
    "\n",
    "# Expectations\n",
    "recommendations = [(words[i],weights[i])  for i in np.argsort(weights)[::-1]]\n",
    "[print(x) for x in recommendations[0:5]]\n",
    "\n",
    "# guess = 'CLICK'\n",
    "# result = '__GGG'\n",
    "# print(f\"Guessing: {guess}, Reusult: {result}\")\n",
    "\n",
    "\n",
    "# weights = update_weights(words, weights=weights, results_matrix=results_matrix, guess=guess,result=result)\n",
    "# # Expectations\n",
    "# recommendations = [(words[i],weights[i])  for i in np.argsort(weights)[::-1]]\n",
    "# [print(x) for x in recommendations[0:5]]\n",
    "\n",
    "\n",
    "# guess = 'QUICK'\n",
    "# result = '__GGG'\n",
    "# print(f\"Guessing: {guess}, Reusult: {result}\")\n",
    "\n",
    "\n",
    "# weights = update_weights(words, weights=weights, results_matrix=results_matrix, guess=guess,result=result)\n",
    "# # Expectations\n",
    "# recommendations = [(words[i],weights[i])  for i in np.argsort(weights)[::-1]]\n",
    "# [print(x) for x in recommendations[0:5]]\n"
   ]
  },
  {
   "cell_type": "code",
   "execution_count": 28,
   "metadata": {},
   "outputs": [
    {
     "name": "stdout",
     "output_type": "stream",
     "text": [
      "(2500, 75)\n",
      "(75,)\n",
      "(2500,)\n"
     ]
    }
   ],
   "source": [
    "def class Test():\n",
    "    \n",
    "    def __init__:\n",
    "        self.x = x"
   ]
  },
  {
   "cell_type": "code",
   "execution_count": 34,
   "metadata": {},
   "outputs": [
    {
     "data": {
      "text/plain": [
       "(array([0.1317241 , 0.16228361, 0.09317182, ..., 0.03764318, 0.0478023 ,\n",
       "        0.03721265]),\n",
       " array([0.17563401, 0.29682719, 0.06505301, ..., 0.22240815, 0.09211355,\n",
       "        0.15217919]),\n",
       " array([0.57080632, 0.78367804, 0.34456848, ..., 0.33533769, 0.23552046,\n",
       "        0.26381715]))"
      ]
     },
     "execution_count": 34,
     "metadata": {},
     "output_type": "execute_result"
    }
   ],
   "source": [
    "calc_expectations(cnt_greens, cnt_yellows, sample_weights, green_value_premium=3)\n"
   ]
  },
  {
   "cell_type": "code",
   "execution_count": 100,
   "metadata": {},
   "outputs": [],
   "source": []
  },
  {
   "cell_type": "code",
   "execution_count": 106,
   "metadata": {},
   "outputs": [
    {
     "name": "stdout",
     "output_type": "stream",
     "text": [
      "('THEIR', 74479372427)\n",
      "('THREE', 73048620231)\n",
      "('TREES', 70929599375)\n",
      "('THERE', 70769934759)\n",
      "('THOSE', 69867495361)\n",
      "\n",
      "\n",
      "\n",
      "('RATES', 165554286761)\n",
      "('NOTES', 162621926917)\n",
      "('TREES', 162412449865)\n",
      "('SHARE', 162081431189)\n",
      "('STORE', 160513173329)\n",
      "\n",
      "\n",
      "\n"
     ]
    }
   ],
   "source": []
  },
  {
   "cell_type": "code",
   "execution_count": 90,
   "metadata": {},
   "outputs": [
    {
     "data": {
      "text/plain": [
       "array(['CLICK', 'BLACK', 'AGAIN', 'APRIL', 'DAVID', 'DAILY', 'FINAL',\n",
       "       'LINUX', 'INDIA', 'QUICK', 'BRAND', 'JAPAN', 'ALBUM', 'BUILD',\n",
       "       'APPLY', 'AWARD', 'BRING', 'VALID', 'GRAND', 'CIVIL', 'FULLY',\n",
       "       'CLAIM', 'URBAN', 'ADMIN', 'MAGIC', 'GAMMA', 'FUNNY', 'BRAIN',\n",
       "       'CARRY', 'FRANK', 'RURAL', 'BRIAN', 'MIAMI', 'DRINK', 'ARRAY',\n",
       "       'PLAIN'], dtype=object)"
      ]
     },
     "execution_count": 90,
     "metadata": {},
     "output_type": "execute_result"
    }
   ],
   "source": [
    "wg.possible_answers[wg.weights > 0]"
   ]
  },
  {
   "cell_type": "code",
   "execution_count": null,
   "metadata": {},
   "outputs": [],
   "source": []
  }
 ],
 "metadata": {
  "kernelspec": {
   "display_name": "Python 3",
   "language": "python",
   "name": "python3"
  },
  "language_info": {
   "codemirror_mode": {
    "name": "ipython",
    "version": 3
   },
   "file_extension": ".py",
   "mimetype": "text/x-python",
   "name": "python",
   "nbconvert_exporter": "python",
   "pygments_lexer": "ipython3",
   "version": "3.6.3"
  }
 },
 "nbformat": 4,
 "nbformat_minor": 2
}
